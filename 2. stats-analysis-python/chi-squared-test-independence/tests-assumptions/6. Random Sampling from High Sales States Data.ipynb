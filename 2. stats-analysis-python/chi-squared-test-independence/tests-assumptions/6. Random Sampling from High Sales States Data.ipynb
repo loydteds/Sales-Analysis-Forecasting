{
 "cells": [
  {
   "cell_type": "markdown",
   "metadata": {},
   "source": [
    "With a calculated sample size of 355 for the high sales data, we can proceed with random sampling from the high_sales_states dataset. This will help ensure that our analysis is representative of the population while maintaining the independence of observations.\n",
    "\n",
    "Here's how we can implement random sampling to obtain a sample of 355 records:"
   ]
  },
  {
   "cell_type": "code",
   "execution_count": 2,
   "metadata": {},
   "outputs": [],
   "source": [
    "import pandas as pd\n",
    "\n",
    "# Load the dataset\n",
    "file_path = 'C:\\\\Users\\\\loydt\\\\Downloads\\\\Projects\\\\Superstore Sales Dataset.xlsx'\n",
    "data = pd.read_excel(file_path)"
   ]
  },
  {
   "cell_type": "code",
   "execution_count": 3,
   "metadata": {},
   "outputs": [
    {
     "name": "stdout",
     "output_type": "stream",
     "text": [
      "        Segment         State           City Region       Ship Mode  \\\n",
      "3529   Consumer       Florida        Orlando  South  Standard Class   \n",
      "7998  Corporate    Washington        Seattle   West     First Class   \n",
      "6359  Corporate    Washington        Seattle   West  Standard Class   \n",
      "7621   Consumer    California    Los Angeles   West  Standard Class   \n",
      "973    Consumer  Pennsylvania   Philadelphia   East    Second Class   \n",
      "...         ...           ...            ...    ...             ...   \n",
      "452    Consumer      New York         Auburn   East    Second Class   \n",
      "6484  Corporate      New York  New York City   East  Standard Class   \n",
      "6582  Corporate    Washington        Edmonds   West  Standard Class   \n",
      "5116   Consumer      New York  New York City   East  Standard Class   \n",
      "5867  Corporate  Pennsylvania   Philadelphia   East  Standard Class   \n",
      "\n",
      "     Order Date         Category Sub-Category  \\\n",
      "3529 2016-09-17       Technology  Accessories   \n",
      "7998 2015-05-04        Furniture  Furnishings   \n",
      "6359 2018-01-23       Technology       Phones   \n",
      "7621 2015-11-25        Furniture       Chairs   \n",
      "973  2015-01-16  Office Supplies       Labels   \n",
      "...         ...              ...          ...   \n",
      "452  2017-04-01       Technology       Phones   \n",
      "6484 2018-06-03       Technology     Machines   \n",
      "6582 2017-08-07       Technology  Accessories   \n",
      "5116 2018-11-11  Office Supplies      Storage   \n",
      "5867 2017-01-04  Office Supplies          Art   \n",
      "\n",
      "                                           Product Name    Sales  \n",
      "3529               SanDisk Cruzer 64 GB USB Flash Drive   87.168  \n",
      "7998  Eldon Regeneration Recycled Desk Accessories, ...   12.180  \n",
      "6359              Griffin GC17055 Auxiliary Audio Cable   86.352  \n",
      "7621                             Hon GuestStacker Chair  725.344  \n",
      "973                Round Specialty Laser Printer Labels   30.072  \n",
      "...                                                 ...      ...  \n",
      "452   Belkin Grip Candy Sheer Case / Cover for iPhon...   35.120  \n",
      "6484         Hewlett-Packard 300S Scientific Calculator   78.660  \n",
      "6582                   LogitechÂ Illuminated - Keyboard  179.970  \n",
      "5116                   Belkin OmniView SE Rackmount Kit   35.480  \n",
      "5867                                         Newell 312    4.672  \n",
      "\n",
      "[355 rows x 10 columns]\n"
     ]
    }
   ],
   "source": [
    "# Filter the big four states generating higher sales\n",
    "states_of_interest = ['Washington', 'California', 'New York', 'Florida', 'Pennsylvania']\n",
    "state_data = data[data['State'].isin(states_of_interest)]\n",
    "\n",
    "# Extract relevant columns\n",
    "high_sales_states = state_data[['Segment', 'State', 'City', 'Region', 'Ship Mode', 'Order Date', 'Category', 'Sub-Category', 'Product Name', 'Sales']]\n",
    "\n",
    "# Perform random sampling\n",
    "sample_size = 355\n",
    "random_sample = high_sales_states.sample(n=sample_size, random_state=42)  # random_state for reproducibility\n",
    "\n",
    "print(random_sample)"
   ]
  },
  {
   "cell_type": "markdown",
   "metadata": {},
   "source": [
    "**Explanation:**\n",
    " - We use the sample() function from Pandas to randomly select 355 rows from the high_sales_states DataFrame.\n",
    " - Setting random_state ensures that the sampling is reproducible; the same random sample can be obtained every time the code is run with this specific seed.\n",
    " - After executing this code, random_sample will contain the randomly selected observations for further analysis."
   ]
  }
 ],
 "metadata": {
  "kernelspec": {
   "display_name": "Python 3",
   "language": "python",
   "name": "python3"
  },
  "language_info": {
   "codemirror_mode": {
    "name": "ipython",
    "version": 3
   },
   "file_extension": ".py",
   "mimetype": "text/x-python",
   "name": "python",
   "nbconvert_exporter": "python",
   "pygments_lexer": "ipython3",
   "version": "3.13.0"
  }
 },
 "nbformat": 4,
 "nbformat_minor": 2
}
