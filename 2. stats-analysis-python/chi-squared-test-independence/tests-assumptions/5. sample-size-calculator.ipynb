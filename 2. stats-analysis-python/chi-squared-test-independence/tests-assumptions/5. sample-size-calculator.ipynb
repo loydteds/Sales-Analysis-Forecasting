{
 "cells": [
  {
   "cell_type": "code",
   "execution_count": 1,
   "metadata": {},
   "outputs": [
    {
     "name": "stdout",
     "output_type": "stream",
     "text": [
      "Calculated sample size: 355\n"
     ]
    }
   ],
   "source": [
    "import math\n",
    "\n",
    "# Parameters\n",
    "N = 4502  # Population size\n",
    "Z = 1.96  # Z-value for 95% confidence\n",
    "p = 0.5   # Estimated proportion\n",
    "E = 0.05  # Margin of error\n",
    "\n",
    "# Sample size calculation\n",
    "n = (N * (Z**2) * p * (1 - p)) / ((E**2 * (N - 1)) + (Z**2 * p * (1 - p)))\n",
    "n = math.ceil(n)  # Round up to nearest whole number\n",
    "\n",
    "print(f\"Calculated sample size: {n}\")\n"
   ]
  }
 ],
 "metadata": {
  "kernelspec": {
   "display_name": "Python 3",
   "language": "python",
   "name": "python3"
  },
  "language_info": {
   "codemirror_mode": {
    "name": "ipython",
    "version": 3
   },
   "file_extension": ".py",
   "mimetype": "text/x-python",
   "name": "python",
   "nbconvert_exporter": "python",
   "pygments_lexer": "ipython3",
   "version": "3.13.0"
  }
 },
 "nbformat": 4,
 "nbformat_minor": 2
}
