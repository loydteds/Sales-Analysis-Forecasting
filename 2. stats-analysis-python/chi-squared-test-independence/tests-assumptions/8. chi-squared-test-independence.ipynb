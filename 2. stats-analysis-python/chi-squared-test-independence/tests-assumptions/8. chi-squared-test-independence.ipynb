{
 "cells": [
  {
   "cell_type": "code",
   "execution_count": 1,
   "metadata": {},
   "outputs": [
    {
     "name": "stdout",
     "output_type": "stream",
     "text": [
      "Contingency Table:\n",
      " Segment          Consumer  Corporate  Home Office  All\n",
      "Category                                              \n",
      "Furniture              37         20           11   68\n",
      "Office Supplies       126         55           45  226\n",
      "Technology             27         24           10   61\n",
      "All                   190         99           66  355\n",
      "\n",
      "Chi-squared Statistic: 5.730730174548193\n",
      "P-value: 0.7665360875663165\n",
      "Degrees of Freedom: 9\n",
      "Expected Frequencies:\n",
      "[[ 36.3943662   18.96338028  12.64225352  68.        ]\n",
      " [120.95774648  63.02535211  42.01690141 226.        ]\n",
      " [ 32.64788732  17.01126761  11.34084507  61.        ]\n",
      " [190.          99.          66.         355.        ]]\n"
     ]
    }
   ],
   "source": [
    "import pandas as pd\n",
    "import scipy.stats as stats\n",
    "\n",
    "# Load the sample data\n",
    "sample_file_path = r'C:\\Users\\loydt\\Downloads\\chi-squared-test-independence\\high_sales_sample_data.xlsx'\n",
    "sample_data = pd.read_excel(sample_file_path)\n",
    "\n",
    "# Create the contingency table\n",
    "contingency_table = pd.crosstab(sample_data['Category'], sample_data['Segment'], margins=True)\n",
    "\n",
    "# Display the contingency table\n",
    "print(\"Contingency Table:\\n\", contingency_table)\n",
    "\n",
    "# Perform the Chi-squared test of independence\n",
    "chi2_stat, p_value, dof, expected = stats.chi2_contingency(contingency_table)\n",
    "\n",
    "# Display the results\n",
    "print(f\"\\nChi-squared Statistic: {chi2_stat}\")\n",
    "print(f\"P-value: {p_value}\")\n",
    "print(f\"Degrees of Freedom: {dof}\")\n",
    "print(f\"Expected Frequencies:\\n{expected}\")\n"
   ]
  }
 ],
 "metadata": {
  "kernelspec": {
   "display_name": "Python 3",
   "language": "python",
   "name": "python3"
  },
  "language_info": {
   "codemirror_mode": {
    "name": "ipython",
    "version": 3
   },
   "file_extension": ".py",
   "mimetype": "text/x-python",
   "name": "python",
   "nbconvert_exporter": "python",
   "pygments_lexer": "ipython3",
   "version": "3.13.0"
  }
 },
 "nbformat": 4,
 "nbformat_minor": 2
}
