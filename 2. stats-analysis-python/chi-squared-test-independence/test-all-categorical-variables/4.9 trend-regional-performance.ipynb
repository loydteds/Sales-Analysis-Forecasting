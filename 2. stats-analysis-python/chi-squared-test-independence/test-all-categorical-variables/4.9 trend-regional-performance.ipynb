{
 "cells": [
  {
   "cell_type": "code",
   "execution_count": 9,
   "metadata": {},
   "outputs": [
    {
     "name": "stdout",
     "output_type": "stream",
     "text": [
      "Sales Distribution by Region, State, and Category:\n",
      "      Region       State         Category      Sales\n",
      "2    Central    Illinois       Technology  31637.881\n",
      "0    Central    Illinois        Furniture  28212.978\n",
      "1    Central    Illinois  Office Supplies  19385.658\n",
      "5    Central     Indiana       Technology  25959.670\n",
      "4    Central     Indiana  Office Supplies  13206.860\n",
      "..       ...         ...              ...        ...\n",
      "137     West        Utah       Technology   2309.904\n",
      "140     West  Washington       Technology  50536.710\n",
      "138     West  Washington        Furniture  44626.472\n",
      "139     West  Washington  Office Supplies  40043.668\n",
      "141     West     Wyoming        Furniture   1603.136\n",
      "\n",
      "[142 rows x 4 columns]\n"
     ]
    }
   ],
   "source": [
    "import pandas as pd\n",
    "\n",
    "# Load the dataset\n",
    "file_path = 'C:\\\\Users\\\\loydt\\\\Downloads\\\\Projects\\\\Superstore Sales Dataset.xlsx'\n",
    "data = pd.read_excel(file_path)\n",
    "\n",
    "# Group by Region, State, and Category and calculate total sales\n",
    "sales_distribution = data.groupby(['Region', 'State', 'Category'])['Sales'].sum().reset_index()\n",
    "\n",
    "# Sort the DataFrame by Region, State, and Sales in descending order for better readability\n",
    "sales_distribution = sales_distribution.sort_values(by=['Region', 'State', 'Sales'], ascending=[True, True, False])\n",
    "\n",
    "# Print the resulting DataFrame\n",
    "print(\"Sales Distribution by Region, State, and Category:\")\n",
    "print(sales_distribution)\n"
   ]
  }
 ],
 "metadata": {
  "kernelspec": {
   "display_name": "Python 3",
   "language": "python",
   "name": "python3"
  },
  "language_info": {
   "codemirror_mode": {
    "name": "ipython",
    "version": 3
   },
   "file_extension": ".py",
   "mimetype": "text/x-python",
   "name": "python",
   "nbconvert_exporter": "python",
   "pygments_lexer": "ipython3",
   "version": "3.13.0"
  }
 },
 "nbformat": 4,
 "nbformat_minor": 2
}
