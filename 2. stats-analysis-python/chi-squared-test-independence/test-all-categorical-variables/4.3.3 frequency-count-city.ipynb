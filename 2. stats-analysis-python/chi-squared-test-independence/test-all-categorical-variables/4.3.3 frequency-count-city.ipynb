{
 "cells": [
  {
   "cell_type": "code",
   "execution_count": 1,
   "metadata": {},
   "outputs": [
    {
     "name": "stdout",
     "output_type": "stream",
     "text": [
      "City-wise Sales Frequency with Segment Breakdown:\n",
      "            City  Total Sales Frequency  Consumer  Corporate  Home Office\n",
      "0       Aberdeen                      1         1          0            0\n",
      "1        Abilene                      1         1          0            0\n",
      "2          Akron                     20        13          6            1\n",
      "3    Albuquerque                     14         4          4            6\n",
      "4     Alexandria                     16         3          6            7\n",
      "..           ...                    ...       ...        ...          ...\n",
      "524   Woonsocket                      4         1          3            0\n",
      "525      Yonkers                     15        13          0            2\n",
      "526         York                      5         0          5            0\n",
      "527      Yucaipa                      1         0          1            0\n",
      "528         Yuma                      4         0          2            2\n",
      "\n",
      "[529 rows x 5 columns]\n"
     ]
    }
   ],
   "source": [
    "import pandas as pd\n",
    "\n",
    "# Load the dataset\n",
    "file_path = 'C:\\\\Users\\\\loydt\\\\Downloads\\\\Projects\\\\Superstore Sales Dataset.xlsx'\n",
    "data = pd.read_excel(file_path)\n",
    "\n",
    "# Count total transaction frequency per city\n",
    "city_sales_counts = data.groupby(['City']).size().reset_index(name='Total Sales Frequency')\n",
    "\n",
    "# Count segment-specific transactions for each city\n",
    "segment_counts = data.groupby(['City', 'Segment']).size().unstack(fill_value=0).reset_index()\n",
    "segment_counts.columns.name = None  # Remove the name from the columns index\n",
    "\n",
    "# Merge the total sales frequency with the segment counts\n",
    "city_segment_counts = pd.merge(city_sales_counts, segment_counts, on='City')\n",
    "\n",
    "# Print the resulting DataFrame\n",
    "print(\"City-wise Sales Frequency with Segment Breakdown:\")\n",
    "print(city_segment_counts)\n"
   ]
  }
 ],
 "metadata": {
  "kernelspec": {
   "display_name": "Python 3",
   "language": "python",
   "name": "python3"
  },
  "language_info": {
   "codemirror_mode": {
    "name": "ipython",
    "version": 3
   },
   "file_extension": ".py",
   "mimetype": "text/x-python",
   "name": "python",
   "nbconvert_exporter": "python",
   "pygments_lexer": "ipython3",
   "version": "3.13.0"
  }
 },
 "nbformat": 4,
 "nbformat_minor": 2
}
